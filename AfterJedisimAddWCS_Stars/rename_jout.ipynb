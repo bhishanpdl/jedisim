{
 "cells": [
  {
   "cell_type": "markdown",
   "metadata": {
    "toc": true
   },
   "source": [
    "<h1>Table of Contents<span class=\"tocSkip\"></span></h1>\n",
    "<div class=\"toc\"><ul class=\"toc-item\"><li><span><a href=\"#Create-mock-files\" data-toc-modified-id=\"Create-mock-files-1\"><span class=\"toc-item-num\">1&nbsp;&nbsp;</span>Create mock files</a></span></li><li><span><a href=\"#Increase-file-numbers-(wrong-method)\" data-toc-modified-id=\"Increase-file-numbers-(wrong-method)-2\"><span class=\"toc-item-num\">2&nbsp;&nbsp;</span>Increase file numbers (wrong method)</a></span></li><li><span><a href=\"#Correct-method-to-filename-rename\" data-toc-modified-id=\"Correct-method-to-filename-rename-3\"><span class=\"toc-item-num\">3&nbsp;&nbsp;</span>Correct method to filename rename</a></span></li></ul></div>"
   ]
  },
  {
   "cell_type": "markdown",
   "metadata": {},
   "source": [
    "# Create mock files"
   ]
  },
  {
   "cell_type": "code",
   "execution_count": 1,
   "metadata": {
    "ExecuteTime": {
     "end_time": "2021-01-06T15:25:51.306662Z",
     "start_time": "2021-01-06T15:25:51.301905Z"
    }
   },
   "outputs": [],
   "source": [
    "import os\n",
    "from pathlib import Path\n",
    "import os\n",
    "import glob\n",
    "import re"
   ]
  },
  {
   "cell_type": "code",
   "execution_count": 2,
   "metadata": {
    "ExecuteTime": {
     "end_time": "2021-01-06T15:25:51.313679Z",
     "start_time": "2021-01-06T15:25:51.309349Z"
    }
   },
   "outputs": [],
   "source": [
    "Path('catalog').mkdir(parents=True, exist_ok=True)\n",
    "    "
   ]
  },
  {
   "cell_type": "markdown",
   "metadata": {},
   "source": [
    "# Increase file numbers (wrong method)"
   ]
  },
  {
   "cell_type": "code",
   "execution_count": 15,
   "metadata": {
    "ExecuteTime": {
     "end_time": "2021-01-06T15:29:02.445768Z",
     "start_time": "2021-01-06T15:29:02.433817Z"
    }
   },
   "outputs": [
    {
     "name": "stdout",
     "output_type": "stream",
     "text": [
      "catalog/catalog_z1.5_000.txt\n",
      "catalog/catalog_z1.5_005.txt\n",
      "\n",
      "catalog/catalog_z1.5_001.txt\n",
      "catalog/catalog_z1.5_006.txt\n",
      "\n",
      "catalog/catalog_z1.5_002.txt\n",
      "catalog/catalog_z1.5_007.txt\n",
      "\n",
      "catalog/catalog_z1.5_003.txt\n",
      "catalog/catalog_z1.5_008.txt\n",
      "\n",
      "catalog/catalog_z1.5_004.txt\n",
      "catalog/catalog_z1.5_009.txt\n",
      "\n",
      "catalog/catalog_z1.5_005.txt\n",
      "catalog/catalog_z1.5_010.txt\n",
      "\n",
      "catalog/catalog_z1.5_006.txt\n",
      "catalog/catalog_z1.5_011.txt\n",
      "\n",
      "catalog/catalog_z1.5_007.txt\n",
      "catalog/catalog_z1.5_012.txt\n",
      "\n",
      "catalog/catalog_z1.5_008.txt\n",
      "catalog/catalog_z1.5_013.txt\n",
      "\n",
      "catalog/catalog_z1.5_009.txt\n",
      "catalog/catalog_z1.5_014.txt\n",
      "\n"
     ]
    }
   ],
   "source": [
    "for i in range(0,10,1):\n",
    "    with open(f'catalog/catalog_z1.5_{i:03d}.txt','w') as fo:\n",
    "        fo.write(str(i))\n",
    "    \n",
    "\n",
    "start = 0\n",
    "end  = 9\n",
    "increment = 5    # start + increment must be smaller than end\n",
    "folder = 'catalog'\n",
    "z = 1.5\n",
    "\n",
    "for i in range(start,end+1,1):\n",
    "    f = '{}/{}_z{:.1f}_{:03d}.txt'.format(folder,folder,z,i)\n",
    "    f2 = '{}/{}_z{:.1f}_{:03d}.txt'.format(folder,folder,z,i+increment)\n",
    "\n",
    "    print(f)\n",
    "    print(f2)\n",
    "    print()\n",
    "    os.rename(f,f2)\n",
    "\n",
    "\n",
    "# There were 10 files but in the end there will be 5 files\n",
    "# 10 to 14"
   ]
  },
  {
   "cell_type": "markdown",
   "metadata": {},
   "source": [
    "# Correct method to filename rename"
   ]
  },
  {
   "cell_type": "code",
   "execution_count": 66,
   "metadata": {
    "ExecuteTime": {
     "end_time": "2021-01-06T17:13:23.120594Z",
     "start_time": "2021-01-06T17:13:22.993449Z"
    }
   },
   "outputs": [],
   "source": [
    "!rm -rf catalog/*.txt\n",
    "\n",
    "import os\n",
    "\n",
    "start = 10\n",
    "end  = 20\n",
    "increment = -5 # This should work for 5 or 50 both\n",
    "\n",
    "\n",
    "folder = 'catalog'\n",
    "z = 1.5\n",
    "\n",
    "\n",
    "# create file\n",
    "if not os.path.exists('catalog'):\n",
    "    os.mkdirs('catalog')\n",
    "\n",
    "\n",
    "for i in range(start,end+1):\n",
    "    with open(f'catalog/catalog_z1.5_{i:03d}.txt','w') as fo:\n",
    "        fo.write(str(i))\n"
   ]
  },
  {
   "cell_type": "code",
   "execution_count": 67,
   "metadata": {
    "ExecuteTime": {
     "end_time": "2021-01-06T17:13:23.894034Z",
     "start_time": "2021-01-06T17:13:23.873908Z"
    }
   },
   "outputs": [
    {
     "name": "stdout",
     "output_type": "stream",
     "text": [
      "catalog/catalog_z1.5_010.txt -> catalog/catalog_z1.5_005.txt\n",
      "catalog/catalog_z1.5_011.txt -> catalog/catalog_z1.5_006.txt\n",
      "catalog/catalog_z1.5_012.txt -> catalog/catalog_z1.5_007.txt\n",
      "catalog/catalog_z1.5_013.txt -> catalog/catalog_z1.5_008.txt\n",
      "catalog/catalog_z1.5_014.txt -> catalog/catalog_z1.5_009.txt\n",
      "catalog/catalog_z1.5_015.txt -> catalog/catalog_z1.5_010.txt\n",
      "catalog/catalog_z1.5_016.txt -> catalog/catalog_z1.5_011.txt\n",
      "catalog/catalog_z1.5_017.txt -> catalog/catalog_z1.5_012.txt\n",
      "catalog/catalog_z1.5_018.txt -> catalog/catalog_z1.5_013.txt\n",
      "catalog/catalog_z1.5_019.txt -> catalog/catalog_z1.5_014.txt\n",
      "catalog/catalog_z1.5_020.txt -> catalog/catalog_z1.5_015.txt\n"
     ]
    }
   ],
   "source": [
    "if increment > 0:\n",
    "    for i in range(end,start-1,-1):\n",
    "        f = '{}/{}_z{:.1f}_{:03d}.txt'.format(folder,folder,z,i)\n",
    "        f2 = '{}/{}_z{:.1f}_{:03d}.txt'.format(folder,folder,z,i+increment)\n",
    "        print(f'{f} -> {f2}')\n",
    "        os.rename(f,f2)\n",
    "\n",
    "else:\n",
    "    for i in range(start,end+1,1):\n",
    "        f = '{}/{}_z{:.1f}_{:03d}.txt'.format(folder,folder,z,i)\n",
    "        f2 = '{}/{}_z{:.1f}_{:03d}.txt'.format(folder,folder,z,i+increment)\n",
    "        print(f'{f} -> {f2}')\n",
    "        os.rename(f,f2)"
   ]
  },
  {
   "cell_type": "code",
   "execution_count": null,
   "metadata": {},
   "outputs": [],
   "source": []
  }
 ],
 "metadata": {
  "kernelspec": {
   "display_name": "Python (dataSc)",
   "language": "python",
   "name": "datasc"
  },
  "language_info": {
   "codemirror_mode": {
    "name": "ipython",
    "version": 3
   },
   "file_extension": ".py",
   "mimetype": "text/x-python",
   "name": "python",
   "nbconvert_exporter": "python",
   "pygments_lexer": "ipython3",
   "version": "3.7.7"
  },
  "toc": {
   "base_numbering": 1,
   "nav_menu": {},
   "number_sections": true,
   "sideBar": true,
   "skip_h1_title": false,
   "title_cell": "Table of Contents",
   "title_sidebar": "Contents",
   "toc_cell": true,
   "toc_position": {},
   "toc_section_display": true,
   "toc_window_display": false
  }
 },
 "nbformat": 4,
 "nbformat_minor": 4
}
